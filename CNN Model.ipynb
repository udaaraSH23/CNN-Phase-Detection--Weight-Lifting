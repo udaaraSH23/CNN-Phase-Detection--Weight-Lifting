{
 "cells": [
  {
   "cell_type": "markdown",
   "id": "ab793299",
   "metadata": {},
   "source": [
    "# Step 1 - Frame Dividing Part"
   ]
  },
  {
   "cell_type": "markdown",
   "id": "5e8d5eef",
   "metadata": {},
   "source": [
    "#### Install Opencv for Frame Extraction"
   ]
  },
  {
   "cell_type": "code",
   "execution_count": 1,
   "id": "953453be",
   "metadata": {},
   "outputs": [
    {
     "name": "stdout",
     "output_type": "stream",
     "text": [
      "Collecting opencv-python-headless\n",
      "  Using cached opencv_python_headless-4.11.0.86-cp37-abi3-win_amd64.whl.metadata (20 kB)\n",
      "Collecting numpy>=1.21.2 (from opencv-python-headless)\n",
      "  Downloading numpy-2.3.1-cp313-cp313-win_amd64.whl.metadata (60 kB)\n",
      "Using cached opencv_python_headless-4.11.0.86-cp37-abi3-win_amd64.whl (39.4 MB)\n",
      "Downloading numpy-2.3.1-cp313-cp313-win_amd64.whl (12.7 MB)\n",
      "   ---------------------------------------- 0.0/12.7 MB ? eta -:--:--\n",
      "   --- ------------------------------------ 1.0/12.7 MB 7.4 MB/s eta 0:00:02\n",
      "   ---------- ----------------------------- 3.4/12.7 MB 10.3 MB/s eta 0:00:01\n",
      "   ------------------ --------------------- 6.0/12.7 MB 11.0 MB/s eta 0:00:01\n",
      "   --------------------------- ------------ 8.7/12.7 MB 11.6 MB/s eta 0:00:01\n",
      "   ---------------------------------- ----- 11.0/12.7 MB 11.6 MB/s eta 0:00:01\n",
      "   ---------------------------------------- 12.7/12.7 MB 11.3 MB/s eta 0:00:00\n",
      "Installing collected packages: numpy, opencv-python-headless\n",
      "\n",
      "   ---------------------------------------- 0/2 [numpy]\n",
      "   ---------------------------------------- 0/2 [numpy]\n",
      "   ---------------------------------------- 0/2 [numpy]\n",
      "   ---------------------------------------- 0/2 [numpy]\n",
      "   ---------------------------------------- 0/2 [numpy]\n",
      "   ---------------------------------------- 0/2 [numpy]\n",
      "   ---------------------------------------- 0/2 [numpy]\n",
      "   ---------------------------------------- 0/2 [numpy]\n",
      "   ---------------------------------------- 0/2 [numpy]\n",
      "   ---------------------------------------- 0/2 [numpy]\n",
      "   ---------------------------------------- 0/2 [numpy]\n",
      "   ---------------------------------------- 0/2 [numpy]\n",
      "   ---------------------------------------- 0/2 [numpy]\n",
      "   ---------------------------------------- 0/2 [numpy]\n",
      "   ---------------------------------------- 0/2 [numpy]\n",
      "   ---------------------------------------- 0/2 [numpy]\n",
      "   ---------------------------------------- 0/2 [numpy]\n",
      "   ---------------------------------------- 0/2 [numpy]\n",
      "   ---------------------------------------- 0/2 [numpy]\n",
      "   ---------------------------------------- 0/2 [numpy]\n",
      "   ---------------------------------------- 0/2 [numpy]\n",
      "   ---------------------------------------- 0/2 [numpy]\n",
      "   -------------------- ------------------- 1/2 [opencv-python-headless]\n",
      "   -------------------- ------------------- 1/2 [opencv-python-headless]\n",
      "   -------------------- ------------------- 1/2 [opencv-python-headless]\n",
      "   -------------------- ------------------- 1/2 [opencv-python-headless]\n",
      "   ---------------------------------------- 2/2 [opencv-python-headless]\n",
      "\n",
      "Successfully installed numpy-2.3.1 opencv-python-headless-4.11.0.86\n",
      "Note: you may need to restart the kernel to use updated packages.\n"
     ]
    }
   ],
   "source": [
    "pip install opencv-python-headless"
   ]
  },
  {
   "cell_type": "markdown",
   "id": "e263ba6b",
   "metadata": {},
   "source": [
    "#### Importing Libraries CV2 and OS"
   ]
  },
  {
   "cell_type": "code",
   "execution_count": 2,
   "id": "ee12fe93",
   "metadata": {},
   "outputs": [],
   "source": [
    "import cv2\n",
    "import os"
   ]
  },
  {
   "cell_type": "markdown",
   "id": "68364809",
   "metadata": {},
   "source": [
    "#### Function to Extract Frames"
   ]
  },
  {
   "cell_type": "code",
   "execution_count": 10,
   "id": "aa9e3911",
   "metadata": {},
   "outputs": [],
   "source": [
    "import os\n",
    "import cv2\n",
    "\n",
    "def extract_frames(video_path, output_folder, frame_rate=5, resize=(224, 224)):\n",
    "    \"\"\"Extract resized frames from a video and save to output_folder\"\"\"\n",
    "    os.makedirs(output_folder, exist_ok=True)\n",
    "    cap = cv2.VideoCapture(video_path)\n",
    "    fps = int(cap.get(cv2.CAP_PROP_FPS))\n",
    "    interval = max(1, int(fps / frame_rate))\n",
    "\n",
    "    count = 0\n",
    "    frame_id = 0\n",
    "    while cap.isOpened():\n",
    "        ret, frame = cap.read()\n",
    "        if not ret:\n",
    "            break\n",
    "        if count % interval == 0:\n",
    "            resized = cv2.resize(frame, resize)\n",
    "            frame_path = os.path.join(output_folder, f\"frame_{frame_id:04d}.jpg\")\n",
    "            cv2.imwrite(frame_path, resized)\n",
    "            frame_id += 1\n",
    "        count += 1\n",
    "    cap.release()\n",
    "    print(f\"Extracted {frame_id} frames from {video_path} → {output_folder}\")\n",
    "\n",
    "def process_all_videos(input_root, output_root, frame_rate=5):\n",
    "    \"\"\"Walk through input_root, find all .mp4/.mov, and extract frames into a folder named after each video\"\"\"\n",
    "    for root, _, files in os.walk(input_root):\n",
    "        for file in files:\n",
    "            if file.endswith(('.mp4', '.MOV')):\n",
    "                video_path = os.path.join(root, file)\n",
    "                \n",
    "                # Get relative path from input_root to current set folder\n",
    "                rel_folder = os.path.relpath(root, input_root)\n",
    "                \n",
    "                # Output folder is: output_root / relative_folder / video_name_without_ext\n",
    "                video_name = os.path.splitext(file)[0]\n",
    "                output_folder = os.path.join(output_root, rel_folder, video_name)\n",
    "\n",
    "                extract_frames(video_path, output_folder, frame_rate)\n",
    "\n",
    "\n"
   ]
  },
  {
   "cell_type": "code",
   "execution_count": null,
   "id": "bbda9685",
   "metadata": {},
   "outputs": [
    {
     "name": "stdout",
     "output_type": "stream",
     "text": [
      "Extracted 35 frames from data\\CP\\Player02_CP_Set_01\\Player02_CP_60Kg_front_view.MOV → output\\CP\\Player02_CP_Set_01\\Player02_CP_60Kg_front_view\n",
      "Extracted 31 frames from data\\CP\\Player02_CP_Set_01\\Player02_CP_60Kg_side_view.MOV → output\\CP\\Player02_CP_Set_01\\Player02_CP_60Kg_side_view\n",
      "Extracted 34 frames from data\\CP\\Player02_CP_Set_01\\Player02_CP_60Kg_top_view.mp4 → output\\CP\\Player02_CP_Set_01\\Player02_CP_60Kg_top_view\n",
      "Extracted 36 frames from data\\CP\\Player02_CP_Set_02\\Player02_CP_80Kg_front_view.MOV → output\\CP\\Player02_CP_Set_02\\Player02_CP_80Kg_front_view\n"
     ]
    },
    {
     "ename": "KeyboardInterrupt",
     "evalue": "",
     "output_type": "error",
     "traceback": [
      "\u001b[31m---------------------------------------------------------------------------\u001b[39m",
      "\u001b[31mKeyboardInterrupt\u001b[39m                         Traceback (most recent call last)",
      "\u001b[36mCell\u001b[39m\u001b[36m \u001b[39m\u001b[32mIn[11]\u001b[39m\u001b[32m, line 4\u001b[39m\n\u001b[32m      2\u001b[39m input_root = \u001b[33m\"\u001b[39m\u001b[33mdata\u001b[39m\u001b[33m\"\u001b[39m\n\u001b[32m      3\u001b[39m output_root = \u001b[33m\"\u001b[39m\u001b[33moutput\u001b[39m\u001b[33m\"\u001b[39m\n\u001b[32m----> \u001b[39m\u001b[32m4\u001b[39m \u001b[43mprocess_all_videos\u001b[49m\u001b[43m(\u001b[49m\u001b[43minput_root\u001b[49m\u001b[43m,\u001b[49m\u001b[43m \u001b[49m\u001b[43moutput_root\u001b[49m\u001b[43m,\u001b[49m\u001b[43m \u001b[49m\u001b[43mframe_rate\u001b[49m\u001b[43m=\u001b[49m\u001b[32;43m5\u001b[39;49m\u001b[43m)\u001b[49m\n",
      "\u001b[36mCell\u001b[39m\u001b[36m \u001b[39m\u001b[32mIn[10]\u001b[39m\u001b[32m, line 40\u001b[39m, in \u001b[36mprocess_all_videos\u001b[39m\u001b[34m(input_root, output_root, frame_rate)\u001b[39m\n\u001b[32m     37\u001b[39m video_name = os.path.splitext(file)[\u001b[32m0\u001b[39m]\n\u001b[32m     38\u001b[39m output_folder = os.path.join(output_root, rel_folder, video_name)\n\u001b[32m---> \u001b[39m\u001b[32m40\u001b[39m \u001b[43mextract_frames\u001b[49m\u001b[43m(\u001b[49m\u001b[43mvideo_path\u001b[49m\u001b[43m,\u001b[49m\u001b[43m \u001b[49m\u001b[43moutput_folder\u001b[49m\u001b[43m,\u001b[49m\u001b[43m \u001b[49m\u001b[43mframe_rate\u001b[49m\u001b[43m)\u001b[49m\n",
      "\u001b[36mCell\u001b[39m\u001b[36m \u001b[39m\u001b[32mIn[10]\u001b[39m\u001b[32m, line 14\u001b[39m, in \u001b[36mextract_frames\u001b[39m\u001b[34m(video_path, output_folder, frame_rate, resize)\u001b[39m\n\u001b[32m     12\u001b[39m frame_id = \u001b[32m0\u001b[39m\n\u001b[32m     13\u001b[39m \u001b[38;5;28;01mwhile\u001b[39;00m cap.isOpened():\n\u001b[32m---> \u001b[39m\u001b[32m14\u001b[39m     ret, frame = \u001b[43mcap\u001b[49m\u001b[43m.\u001b[49m\u001b[43mread\u001b[49m\u001b[43m(\u001b[49m\u001b[43m)\u001b[49m\n\u001b[32m     15\u001b[39m     \u001b[38;5;28;01mif\u001b[39;00m \u001b[38;5;129;01mnot\u001b[39;00m ret:\n\u001b[32m     16\u001b[39m         \u001b[38;5;28;01mbreak\u001b[39;00m\n",
      "\u001b[31mKeyboardInterrupt\u001b[39m: "
     ]
    }
   ],
   "source": [
    "\n",
    "\n",
    "# Example usage\n",
    "input_root = \"Input\"\n",
    "output_root = \"Output\"\n",
    "process_all_videos(input_root, output_root, frame_rate=5)"
   ]
  }
 ],
 "metadata": {
  "kernelspec": {
   "display_name": ".venv",
   "language": "python",
   "name": "python3"
  },
  "language_info": {
   "codemirror_mode": {
    "name": "ipython",
    "version": 3
   },
   "file_extension": ".py",
   "mimetype": "text/x-python",
   "name": "python",
   "nbconvert_exporter": "python",
   "pygments_lexer": "ipython3",
   "version": "3.13.1"
  }
 },
 "nbformat": 4,
 "nbformat_minor": 5
}

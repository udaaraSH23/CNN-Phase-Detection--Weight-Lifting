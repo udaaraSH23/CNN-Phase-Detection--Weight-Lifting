{
 "cells": [
  {
   "cell_type": "markdown",
   "id": "ab793299",
   "metadata": {},
   "source": [
    "# Step 1 - Frame Dividing Part"
   ]
  },
  {
   "cell_type": "markdown",
   "id": "5e8d5eef",
   "metadata": {},
   "source": [
    "#### Install Opencv for Frame Extraction"
   ]
  },
  {
   "cell_type": "code",
   "execution_count": 1,
   "id": "953453be",
   "metadata": {},
   "outputs": [
    {
     "name": "stdout",
     "output_type": "stream",
     "text": [
      "Collecting opencv-python-headless\n",
      "  Using cached opencv_python_headless-4.11.0.86-cp37-abi3-win_amd64.whl.metadata (20 kB)\n",
      "Collecting numpy>=1.21.2 (from opencv-python-headless)\n",
      "  Downloading numpy-2.2.6-cp310-cp310-win_amd64.whl.metadata (60 kB)\n",
      "Using cached opencv_python_headless-4.11.0.86-cp37-abi3-win_amd64.whl (39.4 MB)\n",
      "Downloading numpy-2.2.6-cp310-cp310-win_amd64.whl (12.9 MB)\n",
      "   ---------------------------------------- 0.0/12.9 MB ? eta -:--:--\n",
      "   ---------------------------------------- 0.0/12.9 MB ? eta -:--:--\n",
      "    --------------------------------------- 0.3/12.9 MB ? eta -:--:--\n",
      "   - -------------------------------------- 0.5/12.9 MB 728.2 kB/s eta 0:00:18\n",
      "   -- ------------------------------------- 0.8/12.9 MB 905.5 kB/s eta 0:00:14\n",
      "   -- ------------------------------------- 0.8/12.9 MB 905.5 kB/s eta 0:00:14\n",
      "   --- ------------------------------------ 1.0/12.9 MB 986.7 kB/s eta 0:00:13\n",
      "   ---- ----------------------------------- 1.3/12.9 MB 1.0 MB/s eta 0:00:12\n",
      "   ---- ----------------------------------- 1.6/12.9 MB 998.3 kB/s eta 0:00:12\n",
      "   ----- ---------------------------------- 1.8/12.9 MB 986.7 kB/s eta 0:00:12\n",
      "   ----- ---------------------------------- 1.8/12.9 MB 986.7 kB/s eta 0:00:12\n",
      "   ------ --------------------------------- 2.1/12.9 MB 962.2 kB/s eta 0:00:12\n",
      "   ------- -------------------------------- 2.4/12.9 MB 993.9 kB/s eta 0:00:11\n",
      "   -------- ------------------------------- 2.6/12.9 MB 1.0 MB/s eta 0:00:11\n",
      "   -------- ------------------------------- 2.9/12.9 MB 1.0 MB/s eta 0:00:10\n",
      "   --------- ------------------------------ 3.1/12.9 MB 1.0 MB/s eta 0:00:10\n",
      "   --------- ------------------------------ 3.1/12.9 MB 1.0 MB/s eta 0:00:10\n",
      "   ---------- ----------------------------- 3.4/12.9 MB 1.0 MB/s eta 0:00:10\n",
      "   ----------- ---------------------------- 3.7/12.9 MB 1.0 MB/s eta 0:00:10\n",
      "   ------------ --------------------------- 3.9/12.9 MB 1.0 MB/s eta 0:00:09\n",
      "   ------------- -------------------------- 4.2/12.9 MB 1.0 MB/s eta 0:00:09\n",
      "   ------------- -------------------------- 4.5/12.9 MB 1.1 MB/s eta 0:00:08\n",
      "   ------------- -------------------------- 4.5/12.9 MB 1.1 MB/s eta 0:00:08\n",
      "   ------------- -------------------------- 4.5/12.9 MB 1.1 MB/s eta 0:00:08\n",
      "   ------------- -------------------------- 4.5/12.9 MB 1.1 MB/s eta 0:00:08\n",
      "   ------------- -------------------------- 4.5/12.9 MB 1.1 MB/s eta 0:00:08\n",
      "   -------------- ------------------------- 4.7/12.9 MB 894.0 kB/s eta 0:00:10\n",
      "   --------------- ------------------------ 5.0/12.9 MB 890.8 kB/s eta 0:00:09\n",
      "   --------------- ------------------------ 5.0/12.9 MB 890.8 kB/s eta 0:00:09\n",
      "   ---------------- ----------------------- 5.2/12.9 MB 887.8 kB/s eta 0:00:09\n",
      "   ----------------- ---------------------- 5.5/12.9 MB 897.1 kB/s eta 0:00:09\n",
      "   ----------------- ---------------------- 5.8/12.9 MB 896.4 kB/s eta 0:00:08\n",
      "   ----------------- ---------------------- 5.8/12.9 MB 896.4 kB/s eta 0:00:08\n",
      "   ------------------ --------------------- 6.0/12.9 MB 882.9 kB/s eta 0:00:08\n",
      "   ------------------- -------------------- 6.3/12.9 MB 891.1 kB/s eta 0:00:08\n",
      "   ------------------- -------------------- 6.3/12.9 MB 891.1 kB/s eta 0:00:08\n",
      "   -------------------- ------------------- 6.6/12.9 MB 884.9 kB/s eta 0:00:08\n",
      "   --------------------- ------------------ 6.8/12.9 MB 886.7 kB/s eta 0:00:07\n",
      "   --------------------- ------------------ 7.1/12.9 MB 899.3 kB/s eta 0:00:07\n",
      "   ---------------------- ----------------- 7.3/12.9 MB 904.1 kB/s eta 0:00:07\n",
      "   ---------------------- ----------------- 7.3/12.9 MB 904.1 kB/s eta 0:00:07\n",
      "   ----------------------- ---------------- 7.6/12.9 MB 898.2 kB/s eta 0:00:06\n",
      "   ------------------------ --------------- 7.9/12.9 MB 911.1 kB/s eta 0:00:06\n",
      "   ------------------------- -------------- 8.1/12.9 MB 913.4 kB/s eta 0:00:06\n",
      "   -------------------------- ------------- 8.4/12.9 MB 923.8 kB/s eta 0:00:05\n",
      "   -------------------------- ------------- 8.7/12.9 MB 935.3 kB/s eta 0:00:05\n",
      "   --------------------------- ------------ 8.9/12.9 MB 941.5 kB/s eta 0:00:05\n",
      "   ---------------------------- ----------- 9.2/12.9 MB 952.2 kB/s eta 0:00:04\n",
      "   ----------------------------- ---------- 9.4/12.9 MB 947.1 kB/s eta 0:00:04\n",
      "   ------------------------------ --------- 9.7/12.9 MB 958.7 kB/s eta 0:00:04\n",
      "   ------------------------------- -------- 10.2/12.9 MB 982.3 kB/s eta 0:00:03\n",
      "   -------------------------------- ------- 10.5/12.9 MB 988.4 kB/s eta 0:00:03\n",
      "   --------------------------------- ------ 10.7/12.9 MB 998.6 kB/s eta 0:00:03\n",
      "   --------------------------------- ------ 10.7/12.9 MB 998.6 kB/s eta 0:00:03\n",
      "   ---------------------------------- ----- 11.0/12.9 MB 996.8 kB/s eta 0:00:02\n",
      "   ---------------------------------- ----- 11.3/12.9 MB 1.0 MB/s eta 0:00:02\n",
      "   ------------------------------------ --- 11.8/12.9 MB 1.0 MB/s eta 0:00:02\n",
      "   ------------------------------------- -- 12.1/12.9 MB 1.0 MB/s eta 0:00:01\n",
      "   ------------------------------------- -- 12.1/12.9 MB 1.0 MB/s eta 0:00:01\n",
      "   ---------------------------------------  12.6/12.9 MB 1.0 MB/s eta 0:00:01\n",
      "   ---------------------------------------  12.6/12.9 MB 1.0 MB/s eta 0:00:01\n",
      "   ---------------------------------------- 12.9/12.9 MB 1.0 MB/s eta 0:00:00\n",
      "Installing collected packages: numpy, opencv-python-headless\n",
      "\n",
      "   ---------------------------------------- 0/2 [numpy]\n",
      "   ---------------------------------------- 0/2 [numpy]\n",
      "   ---------------------------------------- 0/2 [numpy]\n",
      "   ---------------------------------------- 0/2 [numpy]\n",
      "   ---------------------------------------- 0/2 [numpy]\n",
      "   ---------------------------------------- 0/2 [numpy]\n",
      "   ---------------------------------------- 0/2 [numpy]\n",
      "   ---------------------------------------- 0/2 [numpy]\n",
      "   ---------------------------------------- 0/2 [numpy]\n",
      "   ---------------------------------------- 0/2 [numpy]\n",
      "   ---------------------------------------- 0/2 [numpy]\n",
      "   ---------------------------------------- 0/2 [numpy]\n",
      "   ---------------------------------------- 0/2 [numpy]\n",
      "   ---------------------------------------- 0/2 [numpy]\n",
      "   ---------------------------------------- 0/2 [numpy]\n",
      "   ---------------------------------------- 0/2 [numpy]\n",
      "   ---------------------------------------- 0/2 [numpy]\n",
      "   ---------------------------------------- 0/2 [numpy]\n",
      "   ---------------------------------------- 0/2 [numpy]\n",
      "   ---------------------------------------- 0/2 [numpy]\n",
      "   -------------------- ------------------- 1/2 [opencv-python-headless]\n",
      "   -------------------- ------------------- 1/2 [opencv-python-headless]\n",
      "   -------------------- ------------------- 1/2 [opencv-python-headless]\n",
      "   -------------------- ------------------- 1/2 [opencv-python-headless]\n",
      "   ---------------------------------------- 2/2 [opencv-python-headless]\n",
      "\n",
      "Successfully installed numpy-2.2.6 opencv-python-headless-4.11.0.86\n",
      "Note: you may need to restart the kernel to use updated packages.\n"
     ]
    }
   ],
   "source": [
    "pip install opencv-python-headless"
   ]
  },
  {
   "cell_type": "markdown",
   "id": "e263ba6b",
   "metadata": {},
   "source": [
    "#### Importing Libraries CV2 and OS"
   ]
  },
  {
   "cell_type": "code",
   "execution_count": 2,
   "id": "ee12fe93",
   "metadata": {},
   "outputs": [],
   "source": [
    "import cv2\n",
    "import os"
   ]
  },
  {
   "cell_type": "markdown",
   "id": "68364809",
   "metadata": {},
   "source": [
    "#### Function to Extract Frames"
   ]
  },
  {
   "cell_type": "code",
   "execution_count": 2,
   "id": "aa9e3911",
   "metadata": {},
   "outputs": [],
   "source": [
    "import os\n",
    "import cv2\n",
    "\n",
    "def extract_frames(video_path, output_folder, frame_rate=5, resize=(224, 224)):\n",
    "    \"\"\"Extract resized frames from a video and save to output_folder\"\"\"\n",
    "    os.makedirs(output_folder, exist_ok=True)\n",
    "    cap = cv2.VideoCapture(video_path)\n",
    "    fps = int(cap.get(cv2.CAP_PROP_FPS))\n",
    "    interval = max(1, int(fps / frame_rate))\n",
    "\n",
    "    count = 0\n",
    "    frame_id = 0\n",
    "    while cap.isOpened():\n",
    "        ret, frame = cap.read()\n",
    "        if not ret:\n",
    "            break\n",
    "        if count % interval == 0:\n",
    "            resized = cv2.resize(frame, resize)\n",
    "            frame_path = os.path.join(output_folder, f\"frame_{frame_id:04d}.jpg\")\n",
    "            cv2.imwrite(frame_path, resized)\n",
    "            frame_id += 1\n",
    "        count += 1\n",
    "    cap.release()\n",
    "    print(f\"Extracted {frame_id} frames from {video_path} → {output_folder}\")\n",
    "\n",
    "def process_all_videos(input_root, output_root, frame_rate=5):\n",
    "    \"\"\"Walk through input_root, find all .mp4/.mov, and extract frames into a folder named after each video\"\"\"\n",
    "    for root, _, files in os.walk(input_root):\n",
    "        for file in files:\n",
    "            if file.endswith(('.mp4', '.MOV')):\n",
    "                video_path = os.path.join(root, file)\n",
    "                \n",
    "                # Get relative path from input_root to current set folder\n",
    "                rel_folder = os.path.relpath(root, input_root)\n",
    "                \n",
    "                # Output folder is: output_root / relative_folder / video_name_without_ext\n",
    "                video_name = os.path.splitext(file)[0]\n",
    "                output_folder = os.path.join(output_root, rel_folder, video_name)\n",
    "\n",
    "                extract_frames(video_path, output_folder, frame_rate)\n",
    "\n",
    "\n"
   ]
  },
  {
   "cell_type": "code",
   "execution_count": null,
   "id": "bbda9685",
   "metadata": {},
   "outputs": [],
   "source": [
    "\n",
    "\n",
    "# Example usage\n",
    "input_root = \"Input\"\n",
    "output_root = \"Output\"\n",
    "process_all_videos(input_root, output_root, frame_rate=5)"
   ]
  },
  {
   "cell_type": "markdown",
   "id": "52e3219b",
   "metadata": {},
   "source": [
    "## Step 2 -After Annotation Creating Dataset"
   ]
  },
  {
   "cell_type": "code",
   "execution_count": null,
   "id": "90aaf50e",
   "metadata": {},
   "outputs": [
    {
     "name": "stdout",
     "output_type": "stream",
     "text": [
      "✅ CSV saved to Dataset.csv with 1628 labeled frames.\n"
     ]
    }
   ],
   "source": [
    "import os\n",
    "import json\n",
    "import csv\n",
    "\n",
    "def collect_phase_labels(root_folder, output_csv, image_extension=\".jpg\"):\n",
    "    \"\"\"\n",
    "    Traverse the nested folder structure and generate a CSV file containing\n",
    "    frame image paths and their corresponding weightlifting phase labels.\n",
    "\n",
    "    Arguments:\n",
    "    - root_folder: Root directory where player data is stored.\n",
    "    - output_csv: Path to save the generated CSV file.\n",
    "    - image_extension: Extension of frame images (default: .jpg)\n",
    "    \"\"\"\n",
    "    \n",
    "    rows = []  # List to hold [frame_path, label] rows\n",
    "\n",
    "    # Iterate through each player directory (e.g., Player_01, Player_02)\n",
    "    for player in os.listdir(root_folder):\n",
    "        player_path = os.path.join(root_folder, player)\n",
    "        if not os.path.isdir(player_path):\n",
    "            continue  # Skip if not a folder\n",
    "\n",
    "        # Iterate through movement types (e.g., FS, CJ)\n",
    "        for movement in os.listdir(player_path):\n",
    "            movement_path = os.path.join(player_path, movement)\n",
    "            if not os.path.isdir(movement_path):\n",
    "                continue\n",
    "\n",
    "            # Iterate through sets (e.g., Player01_FS_Set_01)\n",
    "            for set_folder in os.listdir(movement_path):\n",
    "                set_path = os.path.join(movement_path, set_folder)\n",
    "                if not os.path.isdir(set_path):\n",
    "                    continue\n",
    "\n",
    "                # Iterate through view folders (e.g., front_view, side_view)\n",
    "                for view_folder in os.listdir(set_path):\n",
    "                    view_path = os.path.join(set_path, view_folder)\n",
    "                    if not os.path.isdir(view_path):\n",
    "                        continue\n",
    "\n",
    "                    # Look for the data.json annotation file in the view folder\n",
    "                    json_path = os.path.join(view_path, \"data.json\")\n",
    "                    if not os.path.exists(json_path):\n",
    "                        continue\n",
    "\n",
    "                    # Try to load the JSON annotation\n",
    "                    try:\n",
    "                        with open(json_path, 'r') as f:\n",
    "                            data = json.load(f)\n",
    "                    except:\n",
    "                        print(f\"❌ Failed to load JSON: {json_path}\")\n",
    "                        continue\n",
    "\n",
    "                    # Iterate through each annotated phase\n",
    "                    for phase in data.get(\"phases\", []):\n",
    "                        start = phase[\"start_frame\"]\n",
    "                        end = phase[\"end_frame\"]\n",
    "                        label = phase[\"phase\"]\n",
    "\n",
    "                        # For each frame in the phase range, create a row\n",
    "                        for i in range(start, end + 1):\n",
    "                            frame_name = f\"frame_{i:04d}{image_extension}\"  # e.g., frame_0390.jpg\n",
    "                            frame_path = os.path.join(view_path, frame_name)\n",
    "                            if os.path.exists(frame_path):\n",
    "                                rows.append([os.path.abspath(frame_path), label])  # Save absolute path\n",
    "\n",
    "    # Save all collected rows into a CSV file\n",
    "    with open(output_csv, 'w', newline='') as f:\n",
    "        writer = csv.writer(f)\n",
    "        writer.writerow([\"frame_path\", \"label\"])  # Header\n",
    "        writer.writerows(rows)\n",
    "\n",
    "    print(f\"✅ CSV saved to {output_csv} with {len(rows)} labeled frames.\")\n",
    "\n",
    "\n",
    "# Example usage\n",
    "root_folder = \"Input\"\n",
    "output_csv = \"Dataset.csv\"\n",
    "collect_phase_labels(root_folder, output_csv)\n"
   ]
  },
  {
   "cell_type": "markdown",
   "id": "27f5a143",
   "metadata": {},
   "source": [
    "## Step 3 - After Creating dataset Train the model"
   ]
  },
  {
   "cell_type": "markdown",
   "id": "1dac62ec",
   "metadata": {},
   "source": [
    "#### Install Tenserflow"
   ]
  },
  {
   "cell_type": "code",
   "execution_count": 3,
   "id": "25cea33f",
   "metadata": {},
   "outputs": [
    {
     "name": "stdout",
     "output_type": "stream",
     "text": [
      "Collecting tensorflow\n",
      "  Using cached tensorflow-2.19.0-cp310-cp310-win_amd64.whl.metadata (4.1 kB)\n",
      "Requirement already satisfied: absl-py>=1.0.0 in d:\\ai research\\ai cnn model\\.venv\\lib\\site-packages (from tensorflow) (2.3.0)\n",
      "Collecting astunparse>=1.6.0 (from tensorflow)\n",
      "  Using cached astunparse-1.6.3-py2.py3-none-any.whl.metadata (4.4 kB)\n",
      "Requirement already satisfied: flatbuffers>=24.3.25 in d:\\ai research\\ai cnn model\\.venv\\lib\\site-packages (from tensorflow) (25.2.10)\n",
      "Requirement already satisfied: gast!=0.5.0,!=0.5.1,!=0.5.2,>=0.2.1 in d:\\ai research\\ai cnn model\\.venv\\lib\\site-packages (from tensorflow) (0.6.0)\n",
      "Requirement already satisfied: google-pasta>=0.1.1 in d:\\ai research\\ai cnn model\\.venv\\lib\\site-packages (from tensorflow) (0.2.0)\n",
      "Requirement already satisfied: libclang>=13.0.0 in d:\\ai research\\ai cnn model\\.venv\\lib\\site-packages (from tensorflow) (18.1.1)\n",
      "Requirement already satisfied: opt-einsum>=2.3.2 in d:\\ai research\\ai cnn model\\.venv\\lib\\site-packages (from tensorflow) (3.4.0)\n",
      "Requirement already satisfied: packaging in d:\\ai research\\ai cnn model\\.venv\\lib\\site-packages (from tensorflow) (25.0)\n",
      "Requirement already satisfied: protobuf!=4.21.0,!=4.21.1,!=4.21.2,!=4.21.3,!=4.21.4,!=4.21.5,<6.0.0dev,>=3.20.3 in d:\\ai research\\ai cnn model\\.venv\\lib\\site-packages (from tensorflow) (5.29.5)\n",
      "Requirement already satisfied: requests<3,>=2.21.0 in d:\\ai research\\ai cnn model\\.venv\\lib\\site-packages (from tensorflow) (2.32.4)\n",
      "Requirement already satisfied: setuptools in d:\\ai research\\ai cnn model\\.venv\\lib\\site-packages (from tensorflow) (57.4.0)\n",
      "Requirement already satisfied: six>=1.12.0 in d:\\ai research\\ai cnn model\\.venv\\lib\\site-packages (from tensorflow) (1.17.0)\n",
      "Requirement already satisfied: termcolor>=1.1.0 in d:\\ai research\\ai cnn model\\.venv\\lib\\site-packages (from tensorflow) (3.1.0)\n",
      "Requirement already satisfied: typing-extensions>=3.6.6 in d:\\ai research\\ai cnn model\\.venv\\lib\\site-packages (from tensorflow) (4.14.0)\n",
      "Requirement already satisfied: wrapt>=1.11.0 in d:\\ai research\\ai cnn model\\.venv\\lib\\site-packages (from tensorflow) (1.17.2)\n",
      "Requirement already satisfied: grpcio<2.0,>=1.24.3 in d:\\ai research\\ai cnn model\\.venv\\lib\\site-packages (from tensorflow) (1.73.0)\n",
      "Collecting tensorboard~=2.19.0 (from tensorflow)\n",
      "  Using cached tensorboard-2.19.0-py3-none-any.whl.metadata (1.8 kB)\n",
      "Collecting keras>=3.5.0 (from tensorflow)\n",
      "  Using cached keras-3.10.0-py3-none-any.whl.metadata (6.0 kB)\n",
      "Requirement already satisfied: numpy<2.2.0,>=1.26.0 in d:\\ai research\\ai cnn model\\.venv\\lib\\site-packages (from tensorflow) (2.1.3)\n",
      "Collecting h5py>=3.11.0 (from tensorflow)\n",
      "  Using cached h5py-3.14.0-cp310-cp310-win_amd64.whl.metadata (2.7 kB)\n",
      "Collecting ml-dtypes<1.0.0,>=0.5.1 (from tensorflow)\n",
      "  Using cached ml_dtypes-0.5.1-cp310-cp310-win_amd64.whl.metadata (22 kB)\n",
      "Requirement already satisfied: tensorflow-io-gcs-filesystem>=0.23.1 in d:\\ai research\\ai cnn model\\.venv\\lib\\site-packages (from tensorflow) (0.31.0)\n",
      "Requirement already satisfied: charset_normalizer<4,>=2 in d:\\ai research\\ai cnn model\\.venv\\lib\\site-packages (from requests<3,>=2.21.0->tensorflow) (3.4.2)\n",
      "Requirement already satisfied: idna<4,>=2.5 in d:\\ai research\\ai cnn model\\.venv\\lib\\site-packages (from requests<3,>=2.21.0->tensorflow) (3.10)\n",
      "Requirement already satisfied: urllib3<3,>=1.21.1 in d:\\ai research\\ai cnn model\\.venv\\lib\\site-packages (from requests<3,>=2.21.0->tensorflow) (2.5.0)\n",
      "Requirement already satisfied: certifi>=2017.4.17 in d:\\ai research\\ai cnn model\\.venv\\lib\\site-packages (from requests<3,>=2.21.0->tensorflow) (2025.6.15)\n",
      "Requirement already satisfied: markdown>=2.6.8 in d:\\ai research\\ai cnn model\\.venv\\lib\\site-packages (from tensorboard~=2.19.0->tensorflow) (3.8.2)\n",
      "Requirement already satisfied: tensorboard-data-server<0.8.0,>=0.7.0 in d:\\ai research\\ai cnn model\\.venv\\lib\\site-packages (from tensorboard~=2.19.0->tensorflow) (0.7.2)\n",
      "Requirement already satisfied: werkzeug>=1.0.1 in d:\\ai research\\ai cnn model\\.venv\\lib\\site-packages (from tensorboard~=2.19.0->tensorflow) (3.1.3)\n",
      "Requirement already satisfied: wheel<1.0,>=0.23.0 in d:\\ai research\\ai cnn model\\.venv\\lib\\site-packages (from astunparse>=1.6.0->tensorflow) (0.45.1)\n",
      "Collecting rich (from keras>=3.5.0->tensorflow)\n",
      "  Using cached rich-14.0.0-py3-none-any.whl.metadata (18 kB)\n",
      "Requirement already satisfied: namex in d:\\ai research\\ai cnn model\\.venv\\lib\\site-packages (from keras>=3.5.0->tensorflow) (0.1.0)\n",
      "Requirement already satisfied: optree in d:\\ai research\\ai cnn model\\.venv\\lib\\site-packages (from keras>=3.5.0->tensorflow) (0.16.0)\n",
      "Requirement already satisfied: MarkupSafe>=2.1.1 in d:\\ai research\\ai cnn model\\.venv\\lib\\site-packages (from werkzeug>=1.0.1->tensorboard~=2.19.0->tensorflow) (3.0.2)\n",
      "Collecting markdown-it-py>=2.2.0 (from rich->keras>=3.5.0->tensorflow)\n",
      "  Using cached markdown_it_py-3.0.0-py3-none-any.whl.metadata (6.9 kB)\n",
      "Requirement already satisfied: pygments<3.0.0,>=2.13.0 in d:\\ai research\\ai cnn model\\.venv\\lib\\site-packages (from rich->keras>=3.5.0->tensorflow) (2.19.2)\n",
      "Requirement already satisfied: mdurl~=0.1 in d:\\ai research\\ai cnn model\\.venv\\lib\\site-packages (from markdown-it-py>=2.2.0->rich->keras>=3.5.0->tensorflow) (0.1.2)\n",
      "Using cached tensorflow-2.19.0-cp310-cp310-win_amd64.whl (375.7 MB)\n",
      "Using cached ml_dtypes-0.5.1-cp310-cp310-win_amd64.whl (209 kB)\n",
      "Using cached tensorboard-2.19.0-py3-none-any.whl (5.5 MB)\n",
      "Using cached astunparse-1.6.3-py2.py3-none-any.whl (12 kB)\n",
      "Using cached h5py-3.14.0-cp310-cp310-win_amd64.whl (2.9 MB)\n",
      "Using cached keras-3.10.0-py3-none-any.whl (1.4 MB)\n",
      "Using cached rich-14.0.0-py3-none-any.whl (243 kB)\n",
      "Using cached markdown_it_py-3.0.0-py3-none-any.whl (87 kB)\n",
      "Installing collected packages: ml-dtypes, markdown-it-py, h5py, astunparse, tensorboard, rich, keras, tensorflow\n",
      "\n",
      "   ----- ---------------------------------- 1/8 [markdown-it-py]\n",
      "   ----- ---------------------------------- 1/8 [markdown-it-py]\n",
      "   ---------- ----------------------------- 2/8 [h5py]\n",
      "   ---------- ----------------------------- 2/8 [h5py]\n",
      "   ---------- ----------------------------- 2/8 [h5py]\n",
      "   -------------------- ------------------- 4/8 [tensorboard]\n",
      "   -------------------- ------------------- 4/8 [tensorboard]\n",
      "   -------------------- ------------------- 4/8 [tensorboard]\n",
      "   -------------------- ------------------- 4/8 [tensorboard]\n",
      "   -------------------- ------------------- 4/8 [tensorboard]\n",
      "   -------------------- ------------------- 4/8 [tensorboard]\n",
      "   -------------------- ------------------- 4/8 [tensorboard]\n",
      "   -------------------- ------------------- 4/8 [tensorboard]\n",
      "   ------------------------- -------------- 5/8 [rich]\n",
      "   ------------------------- -------------- 5/8 [rich]\n",
      "   ------------------------- -------------- 5/8 [rich]\n",
      "   ------------------------------ --------- 6/8 [keras]\n",
      "   ------------------------------ --------- 6/8 [keras]\n",
      "   ------------------------------ --------- 6/8 [keras]\n",
      "   ------------------------------ --------- 6/8 [keras]\n",
      "   ------------------------------ --------- 6/8 [keras]\n",
      "   ------------------------------ --------- 6/8 [keras]\n",
      "   ------------------------------ --------- 6/8 [keras]\n",
      "   ------------------------------ --------- 6/8 [keras]\n",
      "   ------------------------------ --------- 6/8 [keras]\n",
      "   ------------------------------ --------- 6/8 [keras]\n",
      "   ------------------------------ --------- 6/8 [keras]\n",
      "   ------------------------------ --------- 6/8 [keras]\n",
      "   ------------------------------ --------- 6/8 [keras]\n",
      "   ------------------------------ --------- 6/8 [keras]\n",
      "   ------------------------------ --------- 6/8 [keras]\n",
      "   ------------------------------ --------- 6/8 [keras]\n",
      "   ------------------------------ --------- 6/8 [keras]\n",
      "   ------------------------------ --------- 6/8 [keras]\n",
      "   ------------------------------ --------- 6/8 [keras]\n",
      "   ------------------------------ --------- 6/8 [keras]\n",
      "   ----------------------------------- ---- 7/8 [tensorflow]\n",
      "   ----------------------------------- ---- 7/8 [tensorflow]\n",
      "   ----------------------------------- ---- 7/8 [tensorflow]\n",
      "   ----------------------------------- ---- 7/8 [tensorflow]\n",
      "   ----------------------------------- ---- 7/8 [tensorflow]\n",
      "   ----------------------------------- ---- 7/8 [tensorflow]\n",
      "   ----------------------------------- ---- 7/8 [tensorflow]\n",
      "   ----------------------------------- ---- 7/8 [tensorflow]\n",
      "   ----------------------------------- ---- 7/8 [tensorflow]\n",
      "   ----------------------------------- ---- 7/8 [tensorflow]\n",
      "   ----------------------------------- ---- 7/8 [tensorflow]\n",
      "   ----------------------------------- ---- 7/8 [tensorflow]\n",
      "   ----------------------------------- ---- 7/8 [tensorflow]\n",
      "   ----------------------------------- ---- 7/8 [tensorflow]\n",
      "   ----------------------------------- ---- 7/8 [tensorflow]\n",
      "   ----------------------------------- ---- 7/8 [tensorflow]\n",
      "   ----------------------------------- ---- 7/8 [tensorflow]\n",
      "   ----------------------------------- ---- 7/8 [tensorflow]\n",
      "   ----------------------------------- ---- 7/8 [tensorflow]\n",
      "   ----------------------------------- ---- 7/8 [tensorflow]\n",
      "   ----------------------------------- ---- 7/8 [tensorflow]\n",
      "   ----------------------------------- ---- 7/8 [tensorflow]\n",
      "   ----------------------------------- ---- 7/8 [tensorflow]\n",
      "   ----------------------------------- ---- 7/8 [tensorflow]\n",
      "   ----------------------------------- ---- 7/8 [tensorflow]\n",
      "   ----------------------------------- ---- 7/8 [tensorflow]\n",
      "   ----------------------------------- ---- 7/8 [tensorflow]\n",
      "   ----------------------------------- ---- 7/8 [tensorflow]\n",
      "   ----------------------------------- ---- 7/8 [tensorflow]\n",
      "   ----------------------------------- ---- 7/8 [tensorflow]\n",
      "   ----------------------------------- ---- 7/8 [tensorflow]\n",
      "   ----------------------------------- ---- 7/8 [tensorflow]\n",
      "   ----------------------------------- ---- 7/8 [tensorflow]\n",
      "   ----------------------------------- ---- 7/8 [tensorflow]\n",
      "   ----------------------------------- ---- 7/8 [tensorflow]\n",
      "   ----------------------------------- ---- 7/8 [tensorflow]\n",
      "   ----------------------------------- ---- 7/8 [tensorflow]\n",
      "   ----------------------------------- ---- 7/8 [tensorflow]\n",
      "   ----------------------------------- ---- 7/8 [tensorflow]\n",
      "   ----------------------------------- ---- 7/8 [tensorflow]\n",
      "   ----------------------------------- ---- 7/8 [tensorflow]\n",
      "   ----------------------------------- ---- 7/8 [tensorflow]\n",
      "   ----------------------------------- ---- 7/8 [tensorflow]\n",
      "   ----------------------------------- ---- 7/8 [tensorflow]\n",
      "   ----------------------------------- ---- 7/8 [tensorflow]\n",
      "   ----------------------------------- ---- 7/8 [tensorflow]\n",
      "   ----------------------------------- ---- 7/8 [tensorflow]\n",
      "   ----------------------------------- ---- 7/8 [tensorflow]\n",
      "   ----------------------------------- ---- 7/8 [tensorflow]\n",
      "   ----------------------------------- ---- 7/8 [tensorflow]\n",
      "   ----------------------------------- ---- 7/8 [tensorflow]\n",
      "   ----------------------------------- ---- 7/8 [tensorflow]\n",
      "   ----------------------------------- ---- 7/8 [tensorflow]\n",
      "   ----------------------------------- ---- 7/8 [tensorflow]\n",
      "   ----------------------------------- ---- 7/8 [tensorflow]\n",
      "   ----------------------------------- ---- 7/8 [tensorflow]\n",
      "   ----------------------------------- ---- 7/8 [tensorflow]\n",
      "   ----------------------------------- ---- 7/8 [tensorflow]\n",
      "   ----------------------------------- ---- 7/8 [tensorflow]\n",
      "   ----------------------------------- ---- 7/8 [tensorflow]\n",
      "   ----------------------------------- ---- 7/8 [tensorflow]\n",
      "   ----------------------------------- ---- 7/8 [tensorflow]\n",
      "   ----------------------------------- ---- 7/8 [tensorflow]\n",
      "   ----------------------------------- ---- 7/8 [tensorflow]\n",
      "   ----------------------------------- ---- 7/8 [tensorflow]\n",
      "   ----------------------------------- ---- 7/8 [tensorflow]\n",
      "   ----------------------------------- ---- 7/8 [tensorflow]\n",
      "   ----------------------------------- ---- 7/8 [tensorflow]\n",
      "   ----------------------------------- ---- 7/8 [tensorflow]\n",
      "   ----------------------------------- ---- 7/8 [tensorflow]\n",
      "   ----------------------------------- ---- 7/8 [tensorflow]\n",
      "   ----------------------------------- ---- 7/8 [tensorflow]\n",
      "   ----------------------------------- ---- 7/8 [tensorflow]\n",
      "   ----------------------------------- ---- 7/8 [tensorflow]\n",
      "   ----------------------------------- ---- 7/8 [tensorflow]\n",
      "   ----------------------------------- ---- 7/8 [tensorflow]\n",
      "   ----------------------------------- ---- 7/8 [tensorflow]\n",
      "   ----------------------------------- ---- 7/8 [tensorflow]\n",
      "   ----------------------------------- ---- 7/8 [tensorflow]\n",
      "   ----------------------------------- ---- 7/8 [tensorflow]\n",
      "   ----------------------------------- ---- 7/8 [tensorflow]\n",
      "   ----------------------------------- ---- 7/8 [tensorflow]\n",
      "   ----------------------------------- ---- 7/8 [tensorflow]\n",
      "   ----------------------------------- ---- 7/8 [tensorflow]\n",
      "   ----------------------------------- ---- 7/8 [tensorflow]\n",
      "   ----------------------------------- ---- 7/8 [tensorflow]\n",
      "   ----------------------------------- ---- 7/8 [tensorflow]\n",
      "   ----------------------------------- ---- 7/8 [tensorflow]\n",
      "   ----------------------------------- ---- 7/8 [tensorflow]\n",
      "   ----------------------------------- ---- 7/8 [tensorflow]\n",
      "   ----------------------------------- ---- 7/8 [tensorflow]\n",
      "   ----------------------------------- ---- 7/8 [tensorflow]\n",
      "   ----------------------------------- ---- 7/8 [tensorflow]\n",
      "   ----------------------------------- ---- 7/8 [tensorflow]\n",
      "   ----------------------------------- ---- 7/8 [tensorflow]\n",
      "   ----------------------------------- ---- 7/8 [tensorflow]\n",
      "   ----------------------------------- ---- 7/8 [tensorflow]\n",
      "   ----------------------------------- ---- 7/8 [tensorflow]\n",
      "   ----------------------------------- ---- 7/8 [tensorflow]\n",
      "   ----------------------------------- ---- 7/8 [tensorflow]\n",
      "   ----------------------------------- ---- 7/8 [tensorflow]\n",
      "   ----------------------------------- ---- 7/8 [tensorflow]\n",
      "   ----------------------------------- ---- 7/8 [tensorflow]\n",
      "   ----------------------------------- ---- 7/8 [tensorflow]\n",
      "   ----------------------------------- ---- 7/8 [tensorflow]\n",
      "   ----------------------------------- ---- 7/8 [tensorflow]\n",
      "   ---------------------------------------- 8/8 [tensorflow]\n",
      "\n",
      "Successfully installed astunparse-1.6.3 h5py-3.14.0 keras-3.10.0 markdown-it-py-3.0.0 ml-dtypes-0.5.1 rich-14.0.0 tensorboard-2.19.0 tensorflow-2.19.0\n",
      "Note: you may need to restart the kernel to use updated packages.\n"
     ]
    }
   ],
   "source": [
    "pip install tensorflow\n"
   ]
  },
  {
   "cell_type": "markdown",
   "id": "9c637803",
   "metadata": {},
   "source": [
    "#### Install Scikit learn"
   ]
  },
  {
   "cell_type": "code",
   "execution_count": 4,
   "id": "dc4495fb",
   "metadata": {},
   "outputs": [
    {
     "name": "stdout",
     "output_type": "stream",
     "text": [
      "Requirement already satisfied: scikit-learn in d:\\ai research\\ai cnn model\\.venv\\lib\\site-packages (1.7.0)\n",
      "Requirement already satisfied: numpy>=1.22.0 in d:\\ai research\\ai cnn model\\.venv\\lib\\site-packages (from scikit-learn) (2.1.3)\n",
      "Requirement already satisfied: scipy>=1.8.0 in d:\\ai research\\ai cnn model\\.venv\\lib\\site-packages (from scikit-learn) (1.15.3)\n",
      "Requirement already satisfied: joblib>=1.2.0 in d:\\ai research\\ai cnn model\\.venv\\lib\\site-packages (from scikit-learn) (1.5.1)\n",
      "Requirement already satisfied: threadpoolctl>=3.1.0 in d:\\ai research\\ai cnn model\\.venv\\lib\\site-packages (from scikit-learn) (3.6.0)\n",
      "Note: you may need to restart the kernel to use updated packages.\n"
     ]
    }
   ],
   "source": [
    "pip install scikit-learn\n"
   ]
  },
  {
   "cell_type": "markdown",
   "id": "084abb5f",
   "metadata": {},
   "source": [
    "#### Install Numpy"
   ]
  },
  {
   "cell_type": "code",
   "execution_count": 5,
   "id": "bec59ab2",
   "metadata": {},
   "outputs": [
    {
     "name": "stdout",
     "output_type": "stream",
     "text": [
      "Requirement already satisfied: numpy in d:\\ai research\\ai cnn model\\.venv\\lib\\site-packages (2.1.3)\n",
      "Note: you may need to restart the kernel to use updated packages.\n"
     ]
    }
   ],
   "source": [
    "pip install numpy"
   ]
  },
  {
   "cell_type": "markdown",
   "id": "3a3d87c2",
   "metadata": {},
   "source": [
    "#### Install Pandas"
   ]
  },
  {
   "cell_type": "code",
   "execution_count": 6,
   "id": "410a53a7",
   "metadata": {},
   "outputs": [
    {
     "name": "stdout",
     "output_type": "stream",
     "text": [
      "Requirement already satisfied: pandas in d:\\ai research\\ai cnn model\\.venv\\lib\\site-packages (2.3.0)Note: you may need to restart the kernel to use updated packages.\n",
      "\n",
      "Requirement already satisfied: numpy>=1.22.4 in d:\\ai research\\ai cnn model\\.venv\\lib\\site-packages (from pandas) (2.1.3)\n",
      "Requirement already satisfied: python-dateutil>=2.8.2 in d:\\ai research\\ai cnn model\\.venv\\lib\\site-packages (from pandas) (2.9.0.post0)\n",
      "Requirement already satisfied: pytz>=2020.1 in d:\\ai research\\ai cnn model\\.venv\\lib\\site-packages (from pandas) (2025.2)\n",
      "Requirement already satisfied: tzdata>=2022.7 in d:\\ai research\\ai cnn model\\.venv\\lib\\site-packages (from pandas) (2025.2)\n",
      "Requirement already satisfied: six>=1.5 in d:\\ai research\\ai cnn model\\.venv\\lib\\site-packages (from python-dateutil>=2.8.2->pandas) (1.17.0)\n"
     ]
    }
   ],
   "source": [
    "pip install pandas"
   ]
  },
  {
   "cell_type": "markdown",
   "id": "447bba94",
   "metadata": {},
   "source": [
    "#### Install OpenCV"
   ]
  },
  {
   "cell_type": "code",
   "execution_count": 7,
   "id": "5f12bcfe",
   "metadata": {},
   "outputs": [
    {
     "name": "stdout",
     "output_type": "stream",
     "text": [
      "Requirement already satisfied: opencv-python-headless in d:\\ai research\\ai cnn model\\.venv\\lib\\site-packages (4.11.0.86)Note: you may need to restart the kernel to use updated packages.\n",
      "\n",
      "Requirement already satisfied: numpy>=1.21.2 in d:\\ai research\\ai cnn model\\.venv\\lib\\site-packages (from opencv-python-headless) (2.1.3)\n"
     ]
    }
   ],
   "source": [
    "pip install opencv-python-headless"
   ]
  },
  {
   "cell_type": "markdown",
   "id": "83939569",
   "metadata": {},
   "source": [
    "#### Prepare Dataset fot Training"
   ]
  },
  {
   "cell_type": "code",
   "execution_count": 31,
   "id": "3c109dcb",
   "metadata": {},
   "outputs": [],
   "source": [
    "# Import necessary libraries\n",
    "import pandas as pd\n",
    "import cv2\n",
    "import numpy as np\n",
    "from sklearn.model_selection import train_test_split\n",
    "from tensorflow.keras.utils import to_categorical\n",
    "\n",
    "def load_dataset(csv_path, img_size=(224, 224)):\n",
    "    \"\"\"\n",
    "    Loads image dataset and corresponding labels from a CSV file and prepares it\n",
    "    for training a CNN model.\n",
    "\n",
    "    Args:\n",
    "        csv_path (str): Path to the CSV file containing image paths and labels.\n",
    "        img_size (tuple): Target size to resize each image (width, height).\n",
    "\n",
    "    Returns:\n",
    "        X (np.array): Array of image data.\n",
    "        y (np.array): One-hot encoded labels.\n",
    "        class_names (list): List of class names in order of encoding.\n",
    "    \"\"\"\n",
    "    \n",
    "    # Read CSV file into a pandas DataFrame\n",
    "    df = pd.read_csv(csv_path)\n",
    "\n",
    "    # Get sorted list of unique labels (phases)\n",
    "    class_names = sorted(df['label'].unique())\n",
    "\n",
    "    # Create a mapping from label name to integer index\n",
    "    class_to_idx = {cls: idx for idx, cls in enumerate(class_names)}\n",
    "\n",
    "    # Initialize lists to hold image data and labels\n",
    "    images = []\n",
    "    labels = []\n",
    "\n",
    "    # Iterate over each row in the DataFrame\n",
    "    for _, row in df.iterrows():\n",
    "        # Load the image from the file path\n",
    "        img = cv2.imread(row['frame_path'])\n",
    "\n",
    "        # Resize the image to the specified size\n",
    "        img = cv2.resize(img, img_size)\n",
    "\n",
    "        # Normalize pixel values to range [0, 1]\n",
    "        img = img / 255.0\n",
    "\n",
    "        # Append processed image and its corresponding label\n",
    "        images.append(img)\n",
    "        labels.append(class_to_idx[row['label']])\n",
    "\n",
    "    # Convert image list to NumPy array\n",
    "    X = np.array(images, dtype=np.float32)\n",
    "\n",
    "    # Convert labels to one-hot encoded format\n",
    "    y = to_categorical(labels, num_classes=len(class_names))\n",
    "\n",
    "    # Return image data, labels, and class name list\n",
    "    return X, y, class_names\n"
   ]
  },
  {
   "cell_type": "markdown",
   "id": "92cbd10b",
   "metadata": {},
   "source": [
    "#### Load The Dataset"
   ]
  },
  {
   "cell_type": "code",
   "execution_count": 32,
   "id": "365bfcfc",
   "metadata": {},
   "outputs": [],
   "source": [
    "X, y, class_names = load_dataset('Dataset.csv', img_size=(224, 224))\n"
   ]
  },
  {
   "cell_type": "markdown",
   "id": "571a090a",
   "metadata": {},
   "source": [
    "#### Train Split "
   ]
  },
  {
   "cell_type": "code",
   "execution_count": 33,
   "id": "43cd817f",
   "metadata": {},
   "outputs": [],
   "source": [
    "from sklearn.model_selection import train_test_split\n",
    "\n",
    "X_train, X_val, y_train, y_val = train_test_split(\n",
    "    X, y, test_size=0.2, random_state=42, stratify=y)\n"
   ]
  },
  {
   "cell_type": "markdown",
   "id": "6faef9b1",
   "metadata": {},
   "source": [
    "#### Create The Model"
   ]
  },
  {
   "cell_type": "code",
   "execution_count": null,
   "id": "cc0b3157",
   "metadata": {},
   "outputs": [
    {
     "name": "stderr",
     "output_type": "stream",
     "text": [
      "d:\\AI Research\\AI CNN Model\\.venv\\lib\\site-packages\\keras\\src\\layers\\convolutional\\base_conv.py:113: UserWarning: Do not pass an `input_shape`/`input_dim` argument to a layer. When using Sequential models, prefer using an `Input(shape)` object as the first layer in the model instead.\n",
      "  super().__init__(activity_regularizer=activity_regularizer, **kwargs)\n"
     ]
    }
   ],
   "source": [
    "from tensorflow.keras.models import Sequential\n",
    "from tensorflow.keras.layers import Conv2D, MaxPooling2D, Flatten, Dense, Dropout\n",
    "\n",
    "# Define a sequential CNN model\n",
    "model = Sequential([\n",
    "    # First convolutional layer with 32 filters of size 3x3, ReLU activation\n",
    "    Conv2D(32, (3, 3), activation='relu', input_shape=(224, 224, 3)),\n",
    "    \n",
    "    # Max pooling layer to reduce spatial dimensions (downsampling)\n",
    "    MaxPooling2D(2, 2),\n",
    "\n",
    "    # Second convolutional layer with 64 filters\n",
    "    Conv2D(64, (3, 3), activation='relu'),\n",
    "    MaxPooling2D(2, 2),\n",
    "\n",
    "    # Third convolutional layer with 128 filters\n",
    "    Conv2D(128, (3, 3), activation='relu'),\n",
    "    MaxPooling2D(2, 2),\n",
    "\n",
    "    # Flatten the feature maps into a 1D vector for the fully connected layer\n",
    "    Flatten(),\n",
    "\n",
    "    # Fully connected (dense) layer with 128 neurons\n",
    "    Dense(128, activation='relu'),\n",
    "\n",
    "    # Dropout layer to prevent overfitting by randomly turning off 50% of neurons\n",
    "    Dropout(0.5),\n",
    "\n",
    "    # Output layer with one neuron per class and softmax activation\n",
    "    Dense(len(class_names), activation='softmax')\n",
    "])\n",
    "\n",
    "# Compile the model with Adam optimizer and categorical crossentropy loss\n",
    "model.compile(\n",
    "    optimizer='adam',                  # Optimizer algorithm\n",
    "    loss='categorical_crossentropy',   # Loss function for multi-class classification\n",
    "    metrics=['accuracy']               # Track accuracy metric during training\n",
    ")\n"
   ]
  },
  {
   "cell_type": "markdown",
   "id": "0fad6685",
   "metadata": {},
   "source": [
    "#### Train the Model"
   ]
  },
  {
   "cell_type": "code",
   "execution_count": 35,
   "id": "6253bb4f",
   "metadata": {},
   "outputs": [
    {
     "name": "stdout",
     "output_type": "stream",
     "text": [
      "Epoch 1/15\n",
      "\u001b[1m41/41\u001b[0m \u001b[32m━━━━━━━━━━━━━━━━━━━━\u001b[0m\u001b[37m\u001b[0m \u001b[1m16s\u001b[0m 384ms/step - accuracy: 0.4068 - loss: 2.3554 - val_accuracy: 0.5276 - val_loss: 1.5792\n",
      "Epoch 2/15\n",
      "\u001b[1m41/41\u001b[0m \u001b[32m━━━━━━━━━━━━━━━━━━━━\u001b[0m\u001b[37m\u001b[0m \u001b[1m15s\u001b[0m 361ms/step - accuracy: 0.5253 - loss: 1.6519 - val_accuracy: 0.5276 - val_loss: 1.3569\n",
      "Epoch 3/15\n",
      "\u001b[1m41/41\u001b[0m \u001b[32m━━━━━━━━━━━━━━━━━━━━\u001b[0m\u001b[37m\u001b[0m \u001b[1m15s\u001b[0m 362ms/step - accuracy: 0.5243 - loss: 1.3178 - val_accuracy: 0.5583 - val_loss: 0.9458\n",
      "Epoch 4/15\n",
      "\u001b[1m41/41\u001b[0m \u001b[32m━━━━━━━━━━━━━━━━━━━━\u001b[0m\u001b[37m\u001b[0m \u001b[1m15s\u001b[0m 359ms/step - accuracy: 0.5591 - loss: 1.0300 - val_accuracy: 0.6350 - val_loss: 0.7601\n",
      "Epoch 5/15\n",
      "\u001b[1m41/41\u001b[0m \u001b[32m━━━━━━━━━━━━━━━━━━━━\u001b[0m\u001b[37m\u001b[0m \u001b[1m15s\u001b[0m 358ms/step - accuracy: 0.6435 - loss: 0.8338 - val_accuracy: 0.7086 - val_loss: 0.6035\n",
      "Epoch 6/15\n",
      "\u001b[1m41/41\u001b[0m \u001b[32m━━━━━━━━━━━━━━━━━━━━\u001b[0m\u001b[37m\u001b[0m \u001b[1m15s\u001b[0m 358ms/step - accuracy: 0.7079 - loss: 0.6575 - val_accuracy: 0.7454 - val_loss: 0.5106\n",
      "Epoch 7/15\n",
      "\u001b[1m41/41\u001b[0m \u001b[32m━━━━━━━━━━━━━━━━━━━━\u001b[0m\u001b[37m\u001b[0m \u001b[1m15s\u001b[0m 362ms/step - accuracy: 0.7077 - loss: 0.6646 - val_accuracy: 0.7853 - val_loss: 0.5215\n",
      "Epoch 8/15\n",
      "\u001b[1m41/41\u001b[0m \u001b[32m━━━━━━━━━━━━━━━━━━━━\u001b[0m\u001b[37m\u001b[0m \u001b[1m15s\u001b[0m 358ms/step - accuracy: 0.7298 - loss: 0.5953 - val_accuracy: 0.7914 - val_loss: 0.4385\n",
      "Epoch 9/15\n",
      "\u001b[1m41/41\u001b[0m \u001b[32m━━━━━━━━━━━━━━━━━━━━\u001b[0m\u001b[37m\u001b[0m \u001b[1m15s\u001b[0m 358ms/step - accuracy: 0.7449 - loss: 0.5109 - val_accuracy: 0.8313 - val_loss: 0.3748\n",
      "Epoch 10/15\n",
      "\u001b[1m41/41\u001b[0m \u001b[32m━━━━━━━━━━━━━━━━━━━━\u001b[0m\u001b[37m\u001b[0m \u001b[1m15s\u001b[0m 373ms/step - accuracy: 0.7931 - loss: 0.4895 - val_accuracy: 0.8528 - val_loss: 0.3912\n",
      "Epoch 11/15\n",
      "\u001b[1m41/41\u001b[0m \u001b[32m━━━━━━━━━━━━━━━━━━━━\u001b[0m\u001b[37m\u001b[0m \u001b[1m15s\u001b[0m 357ms/step - accuracy: 0.7784 - loss: 0.4839 - val_accuracy: 0.8681 - val_loss: 0.3380\n",
      "Epoch 12/15\n",
      "\u001b[1m41/41\u001b[0m \u001b[32m━━━━━━━━━━━━━━━━━━━━\u001b[0m\u001b[37m\u001b[0m \u001b[1m15s\u001b[0m 358ms/step - accuracy: 0.8137 - loss: 0.4279 - val_accuracy: 0.8497 - val_loss: 0.3347\n",
      "Epoch 13/15\n",
      "\u001b[1m41/41\u001b[0m \u001b[32m━━━━━━━━━━━━━━━━━━━━\u001b[0m\u001b[37m\u001b[0m \u001b[1m15s\u001b[0m 356ms/step - accuracy: 0.8245 - loss: 0.3784 - val_accuracy: 0.8896 - val_loss: 0.3144\n",
      "Epoch 14/15\n",
      "\u001b[1m41/41\u001b[0m \u001b[32m━━━━━━━━━━━━━━━━━━━━\u001b[0m\u001b[37m\u001b[0m \u001b[1m15s\u001b[0m 359ms/step - accuracy: 0.8419 - loss: 0.3832 - val_accuracy: 0.8160 - val_loss: 0.4016\n",
      "Epoch 15/15\n",
      "\u001b[1m41/41\u001b[0m \u001b[32m━━━━━━━━━━━━━━━━━━━━\u001b[0m\u001b[37m\u001b[0m \u001b[1m15s\u001b[0m 360ms/step - accuracy: 0.8384 - loss: 0.3857 - val_accuracy: 0.8221 - val_loss: 0.3605\n"
     ]
    }
   ],
   "source": [
    "history = model.fit(\n",
    "    X_train, y_train,\n",
    "    epochs=15,\n",
    "    batch_size=32,\n",
    "    validation_data=(X_val, y_val)\n",
    ")\n"
   ]
  },
  {
   "cell_type": "markdown",
   "id": "23cc67e5",
   "metadata": {},
   "source": [
    "#### Validation Metrics"
   ]
  },
  {
   "cell_type": "code",
   "execution_count": 47,
   "id": "96f5e334",
   "metadata": {},
   "outputs": [
    {
     "name": "stdout",
     "output_type": "stream",
     "text": [
      "\u001b[1m11/11\u001b[0m \u001b[32m━━━━━━━━━━━━━━━━━━━━\u001b[0m\u001b[37m\u001b[0m \u001b[1m1s\u001b[0m 77ms/step - accuracy: 0.7998 - loss: 0.3920\n",
      "✅ Validation Accuracy from model.evaluate(): 0.82\n",
      "📉 Validation Loss: 0.3605\n",
      "\u001b[1m11/11\u001b[0m \u001b[32m━━━━━━━━━━━━━━━━━━━━\u001b[0m\u001b[37m\u001b[0m \u001b[1m1s\u001b[0m 76ms/step\n"
     ]
    },
    {
     "name": "stderr",
     "output_type": "stream",
     "text": [
      "WARNING:absl:You are saving your model as an HDF5 file via `model.save()` or `keras.saving.save_model(model)`. This file format is considered legacy. We recommend using instead the native Keras format, e.g. `model.save('my_model.keras')` or `keras.saving.save_model(model, 'my_model.keras')`. \n"
     ]
    },
    {
     "name": "stdout",
     "output_type": "stream",
     "text": [
      "\n",
      "🎯 Sklearn Accuracy Score: 0.82\n",
      "\n",
      "📊 Classification Report:\n",
      "              precision    recall  f1-score   support\n",
      "\n",
      "         End       1.00      0.61      0.76        23\n",
      "  Transition       0.80      0.80      0.80        10\n",
      "    Turnover       0.85      0.82      0.84        28\n",
      "       catch       0.84      0.46      0.59        35\n",
      "  first_pull       0.76      0.76      0.76        21\n",
      "     nothing       0.83      0.93      0.88       172\n",
      " second_pull       0.90      0.64      0.75        14\n",
      "       start       0.67      0.96      0.79        23\n",
      "\n",
      "    accuracy                           0.82       326\n",
      "   macro avg       0.83      0.75      0.77       326\n",
      "weighted avg       0.83      0.82      0.81       326\n",
      "\n"
     ]
    }
   ],
   "source": [
    "from sklearn.metrics import classification_report, confusion_matrix, accuracy_score\n",
    "import numpy as np\n",
    "\n",
    "# Evaluate model on validation set\n",
    "loss, accuracy = model.evaluate(X_val, y_val)\n",
    "print(f'✅ Validation Accuracy from model.evaluate(): {accuracy:.2f}')\n",
    "print(f'📉 Validation Loss: {loss:.4f}')\n",
    "\n",
    "# Prepare ground truth and predictions\n",
    "y_true = np.argmax(y_val, axis=1)  # Convert one-hot to class indices\n",
    "y_pred_probs = model.predict(X_val)  # Get predicted probabilities\n",
    "y_pred = np.argmax(y_pred_probs, axis=1)  # Convert to predicted class indices\n",
    "\n",
    "# Accuracy\n",
    "acc = accuracy_score(y_true, y_pred)\n",
    "print(f'\\n🎯 Sklearn Accuracy Score: {acc:.2f}')\n",
    "\n",
    "# Classification Report\n",
    "print(\"\\n📊 Classification Report:\")\n",
    "print(classification_report(y_true, y_pred, target_names=class_names))\n",
    "\n",
    "# Save the model\n",
    "model.save('phase_classifier_cnn.h5')\n"
   ]
  },
  {
   "cell_type": "markdown",
   "id": "60614a77",
   "metadata": {},
   "source": [
    "#### Confusion Matrix"
   ]
  },
  {
   "cell_type": "code",
   "execution_count": 49,
   "id": "1606b6f6",
   "metadata": {},
   "outputs": [
    {
     "name": "stdout",
     "output_type": "stream",
     "text": [
      "Collecting seaborn\n",
      "  Using cached seaborn-0.13.2-py3-none-any.whl.metadata (5.4 kB)\n",
      "Requirement already satisfied: numpy!=1.24.0,>=1.20 in d:\\ai research\\ai cnn model\\.venv\\lib\\site-packages (from seaborn) (2.1.3)\n",
      "Requirement already satisfied: pandas>=1.2 in d:\\ai research\\ai cnn model\\.venv\\lib\\site-packages (from seaborn) (2.3.0)\n",
      "Requirement already satisfied: matplotlib!=3.6.1,>=3.4 in d:\\ai research\\ai cnn model\\.venv\\lib\\site-packages (from seaborn) (3.10.3)\n",
      "Requirement already satisfied: contourpy>=1.0.1 in d:\\ai research\\ai cnn model\\.venv\\lib\\site-packages (from matplotlib!=3.6.1,>=3.4->seaborn) (1.3.2)\n",
      "Requirement already satisfied: cycler>=0.10 in d:\\ai research\\ai cnn model\\.venv\\lib\\site-packages (from matplotlib!=3.6.1,>=3.4->seaborn) (0.12.1)\n",
      "Requirement already satisfied: fonttools>=4.22.0 in d:\\ai research\\ai cnn model\\.venv\\lib\\site-packages (from matplotlib!=3.6.1,>=3.4->seaborn) (4.58.4)\n",
      "Requirement already satisfied: kiwisolver>=1.3.1 in d:\\ai research\\ai cnn model\\.venv\\lib\\site-packages (from matplotlib!=3.6.1,>=3.4->seaborn) (1.4.8)\n",
      "Requirement already satisfied: packaging>=20.0 in d:\\ai research\\ai cnn model\\.venv\\lib\\site-packages (from matplotlib!=3.6.1,>=3.4->seaborn) (25.0)\n",
      "Requirement already satisfied: pillow>=8 in d:\\ai research\\ai cnn model\\.venv\\lib\\site-packages (from matplotlib!=3.6.1,>=3.4->seaborn) (11.2.1)\n",
      "Requirement already satisfied: pyparsing>=2.3.1 in d:\\ai research\\ai cnn model\\.venv\\lib\\site-packages (from matplotlib!=3.6.1,>=3.4->seaborn) (3.2.3)\n",
      "Requirement already satisfied: python-dateutil>=2.7 in d:\\ai research\\ai cnn model\\.venv\\lib\\site-packages (from matplotlib!=3.6.1,>=3.4->seaborn) (2.9.0.post0)\n",
      "Requirement already satisfied: pytz>=2020.1 in d:\\ai research\\ai cnn model\\.venv\\lib\\site-packages (from pandas>=1.2->seaborn) (2025.2)\n",
      "Requirement already satisfied: tzdata>=2022.7 in d:\\ai research\\ai cnn model\\.venv\\lib\\site-packages (from pandas>=1.2->seaborn) (2025.2)\n",
      "Requirement already satisfied: six>=1.5 in d:\\ai research\\ai cnn model\\.venv\\lib\\site-packages (from python-dateutil>=2.7->matplotlib!=3.6.1,>=3.4->seaborn) (1.17.0)\n",
      "Using cached seaborn-0.13.2-py3-none-any.whl (294 kB)\n",
      "Installing collected packages: seaborn\n",
      "Successfully installed seaborn-0.13.2\n",
      "Note: you may need to restart the kernel to use updated packages.\n"
     ]
    }
   ],
   "source": [
    "pip install seaborn"
   ]
  },
  {
   "cell_type": "code",
   "execution_count": 50,
   "id": "9b97398a",
   "metadata": {},
   "outputs": [],
   "source": [
    "import matplotlib.pyplot as plt\n",
    "import seaborn as sns\n",
    "from sklearn.metrics import confusion_matrix\n",
    "\n",
    "def plot_confusion_matrix(y_true, y_pred, class_names):\n",
    "    cm = confusion_matrix(y_true, y_pred)\n",
    "    \n",
    "    plt.figure(figsize=(10, 8))\n",
    "    sns.heatmap(cm, annot=True, fmt='d', cmap='Blues',\n",
    "                xticklabels=class_names,\n",
    "                yticklabels=class_names)\n",
    "    \n",
    "    plt.xlabel('Predicted Label')\n",
    "    plt.ylabel('True Label')\n",
    "    plt.title('📊 Confusion Matrix')\n",
    "    plt.tight_layout()\n",
    "    plt.show()\n"
   ]
  },
  {
   "cell_type": "code",
   "execution_count": 51,
   "id": "b9631992",
   "metadata": {},
   "outputs": [
    {
     "name": "stdout",
     "output_type": "stream",
     "text": [
      "\u001b[1m11/11\u001b[0m \u001b[32m━━━━━━━━━━━━━━━━━━━━\u001b[0m\u001b[37m\u001b[0m \u001b[1m1s\u001b[0m 82ms/step\n"
     ]
    },
    {
     "name": "stderr",
     "output_type": "stream",
     "text": [
      "C:\\Users\\DS\\AppData\\Local\\Temp\\ipykernel_8160\\2287998383.py:16: UserWarning: Glyph 128202 (\\N{BAR CHART}) missing from font(s) DejaVu Sans.\n",
      "  plt.tight_layout()\n",
      "d:\\AI Research\\AI CNN Model\\.venv\\lib\\site-packages\\IPython\\core\\pylabtools.py:170: UserWarning: Glyph 128202 (\\N{BAR CHART}) missing from font(s) DejaVu Sans.\n",
      "  fig.canvas.print_figure(bytes_io, **kw)\n"
     ]
    },
    {
     "data": {
      "image/png": "[encoded data removed]",
      "text/plain": [
       "<Figure size 1000x800 with 2 Axes>"
      ]
     },
     "metadata": {},
     "output_type": "display_data"
    }
   ],
   "source": [
    "y_true = np.argmax(y_val, axis=1)\n",
    "y_pred = np.argmax(model.predict(X_val), axis=1)\n",
    "\n",
    "plot_confusion_matrix(y_true, y_pred, class_names)\n"
   ]
  },
  {
   "cell_type": "markdown",
   "id": "77243e13",
   "metadata": {},
   "source": [
    "#### Install matplotlib"
   ]
  },
  {
   "cell_type": "code",
   "execution_count": 37,
   "id": "e5baa816",
   "metadata": {},
   "outputs": [
    {
     "name": "stdout",
     "output_type": "stream",
     "text": [
      "Requirement already satisfied: matplotlib in d:\\ai research\\ai cnn model\\.venv\\lib\\site-packages (3.10.3)\n",
      "Requirement already satisfied: contourpy>=1.0.1 in d:\\ai research\\ai cnn model\\.venv\\lib\\site-packages (from matplotlib) (1.3.2)\n",
      "Requirement already satisfied: cycler>=0.10 in d:\\ai research\\ai cnn model\\.venv\\lib\\site-packages (from matplotlib) (0.12.1)\n",
      "Requirement already satisfied: fonttools>=4.22.0 in d:\\ai research\\ai cnn model\\.venv\\lib\\site-packages (from matplotlib) (4.58.4)\n",
      "Requirement already satisfied: kiwisolver>=1.3.1 in d:\\ai research\\ai cnn model\\.venv\\lib\\site-packages (from matplotlib) (1.4.8)\n",
      "Requirement already satisfied: numpy>=1.23 in d:\\ai research\\ai cnn model\\.venv\\lib\\site-packages (from matplotlib) (2.1.3)\n",
      "Requirement already satisfied: packaging>=20.0 in d:\\ai research\\ai cnn model\\.venv\\lib\\site-packages (from matplotlib) (25.0)\n",
      "Requirement already satisfied: pillow>=8 in d:\\ai research\\ai cnn model\\.venv\\lib\\site-packages (from matplotlib) (11.2.1)\n",
      "Requirement already satisfied: pyparsing>=2.3.1 in d:\\ai research\\ai cnn model\\.venv\\lib\\site-packages (from matplotlib) (3.2.3)\n",
      "Requirement already satisfied: python-dateutil>=2.7 in d:\\ai research\\ai cnn model\\.venv\\lib\\site-packages (from matplotlib) (2.9.0.post0)\n",
      "Requirement already satisfied: six>=1.5 in d:\\ai research\\ai cnn model\\.venv\\lib\\site-packages (from python-dateutil>=2.7->matplotlib) (1.17.0)\n",
      "Note: you may need to restart the kernel to use updated packages.\n"
     ]
    }
   ],
   "source": [
    "pip install matplotlib"
   ]
  },
  {
   "cell_type": "markdown",
   "id": "29b2fb14",
   "metadata": {},
   "source": [
    "#### Plotting Training History"
   ]
  },
  {
   "cell_type": "code",
   "execution_count": 38,
   "id": "f631de36",
   "metadata": {},
   "outputs": [],
   "source": [
    "import matplotlib.pyplot as plt\n",
    "\n",
    "\n",
    "def plot_training_history(history):\n",
    "    plt.figure(figsize=(12,5))\n",
    "    \n",
    "    # Accuracy plot\n",
    "    plt.subplot(1,2,1)\n",
    "    plt.plot(history.history['accuracy'], label='Train Accuracy')\n",
    "    plt.plot(history.history['val_accuracy'], label='Validation Accuracy')\n",
    "    plt.title('Model Accuracy')\n",
    "    plt.xlabel('Epoch')\n",
    "    plt.ylabel('Accuracy')\n",
    "    plt.legend()\n",
    "    \n",
    "    # Loss plot\n",
    "    plt.subplot(1,2,2)\n",
    "    plt.plot(history.history['loss'], label='Train Loss')\n",
    "    plt.plot(history.history['val_loss'], label='Validation Loss')\n",
    "    plt.title('Model Loss')\n",
    "    plt.xlabel('Epoch')\n",
    "    plt.ylabel('Loss')\n",
    "    plt.legend()\n",
    "    \n",
    "    plt.show()\n"
   ]
  },
  {
   "cell_type": "code",
   "execution_count": 39,
   "id": "0dfaa18f",
   "metadata": {},
   "outputs": [
    {
     "data": {
      "image/png": "[encoded data removed]",
      "text/plain": [
       "<Figure size 1200x500 with 2 Axes>"
      ]
     },
     "metadata": {},
     "output_type": "display_data"
    }
   ],
   "source": [
    "plot_training_history(history)"
   ]
  },
  {
   "cell_type": "markdown",
   "id": "7b65c80a",
   "metadata": {},
   "source": [
    "## Inferencing"
   ]
  },
  {
   "cell_type": "code",
   "execution_count": 44,
   "id": "a66c98ee",
   "metadata": {},
   "outputs": [],
   "source": [
    "from tensorflow.keras.models import load_model\n",
    "import cv2\n",
    "import numpy as np\n",
    "\n",
    "def predict_phase(image_path, model, class_names, img_size=(224,224)):\n",
    "    img = cv2.imread(image_path)\n",
    "    img = cv2.resize(img, img_size)\n",
    "    img = img / 255.0\n",
    "    img = np.expand_dims(img, axis=0)  # batch dimension\n",
    "    \n",
    "    preds = model.predict(img)\n",
    "    pred_idx = np.argmax(preds)\n",
    "    pred_label = class_names[pred_idx]\n",
    "    \n",
    "    return pred_label\n"
   ]
  },
  {
   "cell_type": "code",
   "execution_count": 43,
   "id": "a694cba9",
   "metadata": {},
   "outputs": [
    {
     "name": "stderr",
     "output_type": "stream",
     "text": [
      "WARNING:absl:Compiled the loaded model, but the compiled metrics have yet to be built. `model.compile_metrics` will be empty until you train or evaluate the model.\n"
     ]
    },
    {
     "name": "stdout",
     "output_type": "stream",
     "text": [
      "\u001b[1m1/1\u001b[0m \u001b[32m━━━━━━━━━━━━━━━━━━━━\u001b[0m\u001b[37m\u001b[0m \u001b[1m0s\u001b[0m 71ms/step\n",
      "Predicted phase: second_pull\n"
     ]
    }
   ],
   "source": [
    "model = load_model('phase_classifier_cnn.h5')\n",
    "# Fix with forward slashes (also works on Windows)\n",
    "image_path = \"Input/Player_01/FS/Player01_FS_Set_02/Player01_FS_50Kg_front_view/frame_0221.jpg\"\n",
    "\n",
    "label = predict_phase(image_path, model, class_names)\n",
    "print(f\"Predicted phase: {label}\")\n"
   ]
  }
 ],
 "metadata": {
  "kernelspec": {
   "display_name": ".venv",
   "language": "python",
   "name": "python3"
  },
  "language_info": {
   "codemirror_mode": {
    "name": "ipython",
    "version": 3
   },
   "file_extension": ".py",
   "mimetype": "text/x-python",
   "name": "python",
   "nbconvert_exporter": "python",
   "pygments_lexer": "ipython3",
   "version": "3.10.0"
  }
 },
 "nbformat": 4,
 "nbformat_minor": 5
}
